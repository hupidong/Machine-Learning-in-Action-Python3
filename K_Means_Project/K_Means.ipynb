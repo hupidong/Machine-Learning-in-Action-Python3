{
 "cells": [
  {
   "cell_type": "markdown",
   "metadata": {},
   "source": [
    "# K均值介绍"
   ]
  },
  {
   "cell_type": "code",
   "execution_count": 13,
   "metadata": {},
   "outputs": [],
   "source": [
    "import numpy as np\n",
    "import matplotlib.pyplot as plt\n",
    "import K_Means_Project1.K_Means as KM1"
   ]
  },
  {
   "cell_type": "markdown",
   "metadata": {},
   "source": [
    "## 载入并展示数据"
   ]
  },
  {
   "cell_type": "code",
   "execution_count": 2,
   "metadata": {},
   "outputs": [],
   "source": [
    "\"\"\"\n",
    "函数说明：将文本文档中的数据读入到python中\n",
    "\n",
    "Parameters:\n",
    "    fileName - 文件名\n",
    "    \n",
    "Returns:\n",
    "    dataMat - 数据矩阵\n",
    "\n",
    "Modify:\n",
    "    2018-08-02\n",
    "\"\"\"\n",
    "def loadDataSet(fileName):\n",
    "    dataMat = []\n",
    "    fr = open(fileName)\n",
    "    for line in fr.readlines():\n",
    "        curLine = line.strip().split('\\t')\n",
    "        fltLine = list(map(float, curLine))\n",
    "        dataMat.append(fltLine)\n",
    "    return dataMat"
   ]
  },
  {
   "cell_type": "code",
   "execution_count": 3,
   "metadata": {},
   "outputs": [],
   "source": [
    "data = np.array(loadDataSet(\"K_Means_Project1/testSet.txt\"))"
   ]
  },
  {
   "cell_type": "code",
   "execution_count": 4,
   "metadata": {},
   "outputs": [
    {
     "data": {
      "text/plain": [
       "array([[ 1.658985,  4.285136],\n",
       "       [-3.453687,  3.424321],\n",
       "       [ 4.838138, -1.151539],\n",
       "       [-5.379713, -3.362104],\n",
       "       [ 0.972564,  2.924086],\n",
       "       [-3.567919,  1.531611],\n",
       "       [ 0.450614, -3.302219],\n",
       "       [-3.487105, -1.724432],\n",
       "       [ 2.668759,  1.594842],\n",
       "       [-3.156485,  3.191137],\n",
       "       [ 3.165506, -3.999838],\n",
       "       [-2.786837, -3.099354],\n",
       "       [ 4.208187,  2.984927],\n",
       "       [-2.123337,  2.943366],\n",
       "       [ 0.704199, -0.479481],\n",
       "       [-0.39237 , -3.963704],\n",
       "       [ 2.831667,  1.574018],\n",
       "       [-0.790153,  3.343144],\n",
       "       [ 2.943496, -3.357075],\n",
       "       [-3.195883, -2.283926],\n",
       "       [ 2.336445,  2.875106],\n",
       "       [-1.786345,  2.554248],\n",
       "       [ 2.190101, -1.90602 ],\n",
       "       [-3.403367, -2.778288],\n",
       "       [ 1.778124,  3.880832],\n",
       "       [-1.688346,  2.230267],\n",
       "       [ 2.592976, -2.054368],\n",
       "       [-4.007257, -3.207066],\n",
       "       [ 2.257734,  3.387564],\n",
       "       [-2.679011,  0.785119],\n",
       "       [ 0.939512, -4.023563],\n",
       "       [-3.674424, -2.261084],\n",
       "       [ 2.046259,  2.735279],\n",
       "       [-3.18947 ,  1.780269],\n",
       "       [ 4.372646, -0.822248],\n",
       "       [-2.579316, -3.497576],\n",
       "       [ 1.889034,  5.1904  ],\n",
       "       [-0.798747,  2.185588],\n",
       "       [ 2.83652 , -2.658556],\n",
       "       [-3.837877, -3.253815],\n",
       "       [ 2.096701,  3.886007],\n",
       "       [-2.709034,  2.923887],\n",
       "       [ 3.367037, -3.184789],\n",
       "       [-2.121479, -4.232586],\n",
       "       [ 2.329546,  3.179764],\n",
       "       [-3.284816,  3.273099],\n",
       "       [ 3.091414, -3.815232],\n",
       "       [-3.762093, -2.432191],\n",
       "       [ 3.542056,  2.778832],\n",
       "       [-1.736822,  4.241041],\n",
       "       [ 2.127073, -2.98368 ],\n",
       "       [-4.323818, -3.938116],\n",
       "       [ 3.792121,  5.135768],\n",
       "       [-4.786473,  3.358547],\n",
       "       [ 2.624081, -3.260715],\n",
       "       [-4.009299, -2.978115],\n",
       "       [ 2.493525,  1.96371 ],\n",
       "       [-2.513661,  2.642162],\n",
       "       [ 1.864375, -3.176309],\n",
       "       [-3.171184, -3.572452],\n",
       "       [ 2.89422 ,  2.489128],\n",
       "       [-2.562539,  2.884438],\n",
       "       [ 3.491078, -3.947487],\n",
       "       [-2.565729, -2.012114],\n",
       "       [ 3.332948,  3.983102],\n",
       "       [-1.616805,  3.573188],\n",
       "       [ 2.280615, -2.559444],\n",
       "       [-2.651229, -3.103198],\n",
       "       [ 2.321395,  3.154987],\n",
       "       [-1.685703,  2.939697],\n",
       "       [ 3.031012, -3.620252],\n",
       "       [-4.599622, -2.185829],\n",
       "       [ 4.196223,  1.126677],\n",
       "       [-2.133863,  3.093686],\n",
       "       [ 4.668892, -2.562705],\n",
       "       [-2.793241, -2.149706],\n",
       "       [ 2.884105,  3.043438],\n",
       "       [-2.967647,  2.848696],\n",
       "       [ 4.479332, -1.764772],\n",
       "       [-4.905566, -2.91107 ]])"
      ]
     },
     "execution_count": 4,
     "metadata": {},
     "output_type": "execute_result"
    }
   ],
   "source": [
    "data"
   ]
  },
  {
   "cell_type": "code",
   "execution_count": 19,
   "metadata": {},
   "outputs": [
    {
     "data": {
      "text/plain": [
       "Text(0, 0.5, 'Y')"
      ]
     },
     "execution_count": 19,
     "metadata": {},
     "output_type": "execute_result"
    },
    {
     "data": {
      "image/png": "[encoded data removed]",
      "text/plain": [
       "<Figure size 432x288 with 1 Axes>"
      ]
     },
     "metadata": {
      "needs_background": "light"
     },
     "output_type": "display_data"
    }
   ],
   "source": [
    "fig = plt.figure()\n",
    "ax = fig.add_subplot(111)\n",
    "ax.scatter(data[:,0], data[:,1], s=30, c='b', marker='o', alpha=.5)\n",
    "plt.title(\"DataSet\")\n",
    "plt.xlabel(\"X\")\n",
    "plt.ylabel(\"Y\")\n",
    "plt.show()"
   ]
  },
  {
   "cell_type": "markdown",
   "metadata": {},
   "source": [
    "# K-均值算法：\n",
    "K-均值中的$k$是聚类簇个数的意思，簇个数$k$是用户指定的，每个簇都有各自的质心。\n",
    "算法流程描述为：\n",
    "- 第一步，创建$k$个点作为质心(一般是随机选择)\n",
    "- 第二步，将数据集中的每个点分配至一个簇中\n",
    "- 第三步，更新所有簇的质心\n",
    "- 第四步，重复第二三步，直到所有数据点的簇分配结果不再改变为止"
   ]
  },
  {
   "cell_type": "markdown",
   "metadata": {},
   "source": [
    "## 计算数据点之间的距离"
   ]
  },
  {
   "cell_type": "code",
   "execution_count": 20,
   "metadata": {},
   "outputs": [],
   "source": [
    "\"\"\"\n",
    "函数说明：数据向量计算欧式距离\n",
    "\n",
    "Parameters:\n",
    "    vecA - 数据向量A\n",
    "    vecB - 数据向量B\n",
    "    \n",
    "Returns:\n",
    "    两个向量之间的欧几里德距离\n",
    "\n",
    "Modify:\n",
    "    2018-08-02\n",
    "\"\"\"\n",
    "def distEclud(vecA, vecB):\n",
    "    return np.sqrt(np.sum(np.power(vecA - vecB, 2)))"
   ]
  },
  {
   "cell_type": "markdown",
   "metadata": {},
   "source": [
    "## 随机初始化质心"
   ]
  },
  {
   "cell_type": "code",
   "execution_count": 21,
   "metadata": {},
   "outputs": [],
   "source": [
    "\"\"\"\n",
    "函数说明：随机初始化k个质心（质心满足数据边界之内）\n",
    "\n",
    "Parameters:\n",
    "    dataSet - 输入的数据集\n",
    "    k - 选取k个质心\n",
    "    \n",
    "Returns:\n",
    "    centroids - 返回初始化得到的k个质心向量\n",
    "\n",
    "Modify:\n",
    "    2018-08-02\n",
    "\"\"\"\n",
    "def randCent(dataSet, k):\n",
    "    # 得到数据样本的维度\n",
    "    n = np.shape(dataSet)[1]\n",
    "    # 初始化为一个(k,n)的全零矩阵\n",
    "    centroids = np.mat(np.zeros((k, n)))\n",
    "    # 遍历数据集的每一个维度\n",
    "    for j in range(n):\n",
    "        # 得到该列数据的最小值,最大值\n",
    "        minJ = np.min(dataSet[:, j])\n",
    "        maxJ = np.max(dataSet[:, j])\n",
    "        # 得到该列数据的范围(最大值-最小值)\n",
    "        rangeJ = float(maxJ - minJ)\n",
    "        # k个质心向量的第j维数据值随机为位于(最小值，最大值)内的某一值\n",
    "        # Create an array of the given shape and populate it with random samples from a uniform distribution over [0, 1).\n",
    "        centroids[:, j] = minJ + rangeJ * np.random.rand(k, 1)\n",
    "    # 返回初始化得到的k个质心向量\n",
    "    return centroids"
   ]
  },
  {
   "cell_type": "code",
   "execution_count": 22,
   "metadata": {},
   "outputs": [],
   "source": [
    "def plotCent(dataSet,k):\n",
    "    # 随机获取质心\n",
    "    centroids = randCent(dataSet,k)\n",
    "    fig = plt.figure()\n",
    "    ax = fig.add_subplot(111)\n",
    "    ax.scatter(dataSet[:,0],dataSet[:,1],s=30,c=\"b\",marker=\"o\",alpha=0.5)\n",
    "    for i in range(k):\n",
    "        ax.scatter(centroids[i,0],centroids[i,1],s=100, c='r', marker='+', alpha=1.0)\n",
    "    "
   ]
  },
  {
   "cell_type": "code",
   "execution_count": 25,
   "metadata": {},
   "outputs": [
    {
     "data": {
      "image/png": "[encoded data removed]",
      "text/plain": [
       "<Figure size 432x288 with 1 Axes>"
      ]
     },
     "metadata": {
      "needs_background": "light"
     },
     "output_type": "display_data"
    }
   ],
   "source": [
    "plotCent(data,4)"
   ]
  },
  {
   "cell_type": "markdown",
   "metadata": {},
   "source": [
    "## K-均值算法实现"
   ]
  },
  {
   "cell_type": "code",
   "execution_count": 26,
   "metadata": {},
   "outputs": [],
   "source": [
    "\"\"\"\n",
    "函数说明：k-means聚类算法\n",
    "\n",
    "Parameters:\n",
    "    dataSet - 用于聚类的数据集\n",
    "    k - 选取k个质心\n",
    "    distMeas - 距离计算方法,默认欧氏距离distEclud()\n",
    "    createCent - 获取k个质心的方法,默认随机获取randCent()\n",
    "    \n",
    "Returns:\n",
    "    centroids - k个聚类的聚类结果\n",
    "    clusterAssment - 聚类误差\n",
    "\n",
    "Modify:\n",
    "    2018-08-02\n",
    "\"\"\"\n",
    "def kMeans(dataSet, k, distMeas=distEclud, createCent=randCent):\n",
    "    # 获取数据集样本数\n",
    "    m = np.shape(dataSet)[0]\n",
    "    # 初始化一个（m,2）全零矩阵\n",
    "    clusterAssment = np.mat(np.zeros((m, 2)))\n",
    "    # 创建初始的k个质心向量\n",
    "    centroids = createCent(dataSet, k)\n",
    "    # 聚类结果是否发生变化的布尔类型\n",
    "    clusterChanged = True\n",
    "    # 只要聚类结果一直发生变化，就一直执行聚类算法，直至所有数据点聚类结果不发生变化\n",
    "    while clusterChanged:\n",
    "        # 聚类结果变化布尔类型置为False\n",
    "        clusterChanged = False\n",
    "        # 遍历数据集每一个样本向量\n",
    "        for i in range(m):\n",
    "            # 初始化最小距离为正无穷，最小距离对应的索引为-1\n",
    "            minDist = float('inf')\n",
    "            minIndex = -1\n",
    "            # 循环k个类的质心\n",
    "            for j in range(k):\n",
    "                # 计算数据点到质心的欧氏距离\n",
    "                distJI = distMeas(centroids[j, :], dataSet[i, :])\n",
    "                # 如果距离小于当前最小距离\n",
    "                if distJI < minDist:\n",
    "                    # 当前距离为最小距离，最小距离对应索引应为j(第j个类)\n",
    "                    minDist = distJI\n",
    "                    minIndex = j\n",
    "            # 当前聚类结果中第i个样本的聚类结果发生变化：布尔值置为True，继续聚类算法\n",
    "            if clusterAssment[i, 0] != minIndex: \n",
    "                clusterChanged = True\n",
    "            # 更新当前变化样本的聚类结果和平方误差\n",
    "            clusterAssment[i, :] = minIndex, minDist**2\n",
    "            # 打印k-means聚类的质心\n",
    "        # print(centroids)\n",
    "        # 遍历每一个质心\n",
    "        for cent in range(k):\n",
    "            # 将数据集中所有属于当前质心类的样本通过条件过滤筛选出来\n",
    "            ptsInClust = dataSet[np.nonzero(clusterAssment[:, 0].A == cent)[0]]\n",
    "            # 计算这些数据的均值(axis=0:求列均值)，作为该类质心向量\n",
    "            centroids[cent, :] = np.mean(ptsInClust, axis=0)\n",
    "    # 返回k个聚类，聚类结果及误差\n",
    "    return centroids, clusterAssment"
   ]
  },
  {
   "cell_type": "markdown",
   "metadata": {},
   "source": [
    "## 绘制聚类结果"
   ]
  },
  {
   "cell_type": "code",
   "execution_count": 27,
   "metadata": {},
   "outputs": [],
   "source": [
    "\"\"\"\n",
    "函数说明：绘制数据集\n",
    "\n",
    "Parameters:\n",
    "    fileName - 文件名\n",
    "    \n",
    "Returns:\n",
    "    None\n",
    "\n",
    "Modify:\n",
    "    2018-08-01\n",
    "\"\"\"\n",
    "def plotDataSet(filename):\n",
    "    # 导入数据\n",
    "    datMat = np.mat(loadDataSet(filename))\n",
    "    # 进行k-means算法其中k为4\n",
    "    myCentroids, clustAssing = kMeans(datMat, 4)\n",
    "    clustAssing = clustAssing.tolist()\n",
    "    myCentroids = myCentroids.tolist()\n",
    "    xcord = [[], [], [], []]\n",
    "    ycord = [[], [], [], []]\n",
    "    datMat = datMat.tolist()\n",
    "    m = len(clustAssing)\n",
    "    for i in range(m):\n",
    "        if int(clustAssing[i][0]) == 0:\n",
    "            xcord[0].append(datMat[i][0])\n",
    "            ycord[0].append(datMat[i][1])\n",
    "        elif int(clustAssing[i][0]) == 1:\n",
    "            xcord[1].append(datMat[i][0])\n",
    "            ycord[1].append(datMat[i][1])\n",
    "        elif int(clustAssing[i][0]) == 2:\n",
    "            xcord[2].append(datMat[i][0])\n",
    "            ycord[2].append(datMat[i][1])\n",
    "        elif int(clustAssing[i][0]) == 3:\n",
    "            xcord[3].append(datMat[i][0])\n",
    "            ycord[3].append(datMat[i][1])\n",
    "    fig = plt.figure()\n",
    "    ax = fig.add_subplot(111)\n",
    "    # 绘制样本点\n",
    "    ax.scatter(xcord[0], ycord[0], s=20, c='b', marker='*', alpha=.5)\n",
    "    ax.scatter(xcord[1], ycord[1], s=20, c='r', marker='D', alpha=.5)\n",
    "    ax.scatter(xcord[2], ycord[2], s=20, c='c', marker='>', alpha=.5)\n",
    "    ax.scatter(xcord[3], ycord[3], s=20, c='k', marker='o', alpha=.5)\n",
    "    # 绘制质心\n",
    "    ax.scatter(myCentroids[0][0], myCentroids[0][1], s=100, c='k', marker='+', alpha=.5)\n",
    "    ax.scatter(myCentroids[1][0], myCentroids[1][1], s=100, c='k', marker='+', alpha=.5)\n",
    "    ax.scatter(myCentroids[2][0], myCentroids[2][1], s=100, c='k', marker='+', alpha=.5)\n",
    "    ax.scatter(myCentroids[3][0], myCentroids[3][1], s=100, c='k', marker='+', alpha=.5)\n",
    "    plt.title('DataSet')\n",
    "    plt.xlabel('X')\n",
    "    plt.show()"
   ]
  },
  {
   "cell_type": "code",
   "execution_count": 29,
   "metadata": {},
   "outputs": [
    {
     "data": {
      "image/png": "[encoded data removed]",
      "text/plain": [
       "<Figure size 432x288 with 1 Axes>"
      ]
     },
     "metadata": {
      "needs_background": "light"
     },
     "output_type": "display_data"
    }
   ],
   "source": [
    "plotDataSet(\"K_Means_Project1/testSet.txt\")"
   ]
  },
  {
   "cell_type": "code",
   "execution_count": null,
   "metadata": {},
   "outputs": [],
   "source": []
  }
 ],
 "metadata": {
  "kernelspec": {
   "display_name": "Python [conda env:py36]",
   "language": "python",
   "name": "conda-env-py36-py"
  },
  "language_info": {
   "codemirror_mode": {
    "name": "ipython",
    "version": 3
   },
   "file_extension": ".py",
   "mimetype": "text/x-python",
   "name": "python",
   "nbconvert_exporter": "python",
   "pygments_lexer": "ipython3",
   "version": "3.6.7"
  }
 },
 "nbformat": 4,
 "nbformat_minor": 2
}
